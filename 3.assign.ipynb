{
 "cells": [
  {
   "cell_type": "code",
   "execution_count": 27,
   "id": "2167bfa0-430e-4720-b7b6-4affc8d8b135",
   "metadata": {},
   "outputs": [
    {
     "name": "stdin",
     "output_type": "stream",
     "text": [
      "enter a number 97\n"
     ]
    },
    {
     "name": "stdout",
     "output_type": "stream",
     "text": [
      "grade A \n"
     ]
    }
   ],
   "source": [
    "                                                     # Name  Rohit bhardwaj\n",
    "                                                    #  Batch data science master\n",
    "                                                    #  Assignment based on if elif or loop\n",
    "\n",
    "\n",
    "\n",
    "\n",
    "marks = int(input(\"enter a number\"))\n",
    "if marks >90 and marks<=100:\n",
    "    print(\"grade A \")\n",
    "elif marks >80 and marks <=90:\n",
    "    print(\"grade B \")\n",
    "elif marks >=60 and marks <=80:\n",
    "    print(\"grade C \")\n",
    "elif marks <60 and marks >0:\n",
    "    print('grade D ')\n",
    "elif marks <0 and marks >100:\n",
    "    print(\"invalid no\")\n",
    "else:\n",
    "    print(\"invlid no\")"
   ]
  },
  {
   "cell_type": "code",
   "execution_count": 38,
   "id": "f5690c86-c80e-4353-87bb-f5f4e2502f63",
   "metadata": {},
   "outputs": [
    {
     "name": "stdin",
     "output_type": "stream",
     "text": [
      "enter a price of bike 83000\n"
     ]
    },
    {
     "name": "stdout",
     "output_type": "stream",
     "text": [
      "tax = 10%\n"
     ]
    }
   ],
   "source": [
    "cost_price = int(input(\"enter a price of bike\"))\n",
    "if cost_price > 100000:\n",
    "    print(\"tax = 15%\")\n",
    "elif cost_price >50000 and cost_price <=100000:\n",
    "    print(\"tax = 10%\")\n",
    "elif cost_price <= 50000:\n",
    "    print(\"tax = 5%\")"
   ]
  },
  {
   "cell_type": "code",
   "execution_count": 41,
   "id": "c0757413-3861-4858-9fae-9d4a2e1f9dfb",
   "metadata": {},
   "outputs": [
    {
     "name": "stdin",
     "output_type": "stream",
     "text": [
      "enter a city name jaipur\n"
     ]
    },
    {
     "name": "stdout",
     "output_type": "stream",
     "text": [
      "jal mahal\n"
     ]
    }
   ],
   "source": [
    "city = str(input(\"enter a city name\"))\n",
    "if city == \"delhi\":\n",
    "    print(\"red fort\")\n",
    "elif city == \"agra\":\n",
    "    print(\"taj mahal\")\n",
    "elif city == \"jaipur\":\n",
    "    print(\"jal mahal\")"
   ]
  },
  {
   "cell_type": "code",
   "execution_count": 43,
   "id": "4cb4ba16-74f5-448a-ae50-df0025296ab9",
   "metadata": {},
   "outputs": [
    {
     "name": "stdout",
     "output_type": "stream",
     "text": [
      "3\n"
     ]
    }
   ],
   "source": [
    "count = 0 \n",
    "n=1\n",
    "while n<=10:\n",
    "    if n%3==0:\n",
    "        count = count+1\n",
    "    n=n+1 \n",
    "print(count)    "
   ]
  },
  {
   "cell_type": "code",
   "execution_count": 45,
   "id": "99c6ccea-81ba-4a54-8b84-da4976ff6542",
   "metadata": {},
   "outputs": [
    {
     "name": "stdout",
     "output_type": "stream",
     "text": [
      "10\n",
      "9\n",
      "8\n",
      "7\n",
      "6\n",
      "5\n",
      "4\n",
      "3\n",
      "2\n",
      "1\n"
     ]
    }
   ],
   "source": [
    "i = 10\n",
    "while i>=1:\n",
    "    print(i)\n",
    "    i= i-1"
   ]
  },
  {
   "cell_type": "code",
   "execution_count": 51,
   "id": "8ca140b9-d744-48e4-87bf-247ae47a762e",
   "metadata": {},
   "outputs": [
    {
     "name": "stdout",
     "output_type": "stream",
     "text": [
      "1\n",
      "2\n",
      "3\n",
      "4\n",
      "5\n"
     ]
    }
   ],
   "source": [
    "#in python while loop is used to run block of code untile a certisn  condition is met\n",
    "# a while loop evalute the condition . if the\n",
    "# condition evulate to true the code inside the while\n",
    "#loop is executed\n",
    "\n",
    "\n",
    "i=1\n",
    "while i<=5:\n",
    "    print(i)\n",
    "    i=i+1"
   ]
  },
  {
   "cell_type": "code",
   "execution_count": null,
   "id": "740a5d2c-c192-49ad-97f0-c7318f9aae99",
   "metadata": {},
   "outputs": [],
   "source": []
  },
  {
   "cell_type": "code",
   "execution_count": null,
   "id": "791f287e-8cf9-4293-a159-a6ce476defa2",
   "metadata": {},
   "outputs": [],
   "source": []
  }
 ],
 "metadata": {
  "kernelspec": {
   "display_name": "Python 3 (ipykernel)",
   "language": "python",
   "name": "python3"
  },
  "language_info": {
   "codemirror_mode": {
    "name": "ipython",
    "version": 3
   },
   "file_extension": ".py",
   "mimetype": "text/x-python",
   "name": "python",
   "nbconvert_exporter": "python",
   "pygments_lexer": "ipython3",
   "version": "3.10.8"
  }
 },
 "nbformat": 4,
 "nbformat_minor": 5
}
